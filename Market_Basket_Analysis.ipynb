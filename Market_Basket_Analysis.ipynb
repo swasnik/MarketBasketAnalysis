{
 "cells": [
  {
   "cell_type": "code",
   "execution_count": 1,
   "id": "underlying-socket",
   "metadata": {},
   "outputs": [
    {
     "data": {
      "text/plain": [
       "Intitializing Scala interpreter ..."
      ]
     },
     "metadata": {},
     "output_type": "display_data"
    },
    {
     "data": {
      "text/plain": [
       "Spark Web UI available at http://91ad3f587c27:4040\n",
       "SparkContext available as 'sc' (version = 3.1.1, master = local[*], app id = local-1616136030165)\n",
       "SparkSession available as 'spark'\n"
      ]
     },
     "metadata": {},
     "output_type": "display_data"
    },
    {
     "data": {
      "text/plain": [
       "aisles: org.apache.spark.sql.DataFrame = [aisle_id: int, aisle: string]\n"
      ]
     },
     "execution_count": 1,
     "metadata": {},
     "output_type": "execute_result"
    }
   ],
   "source": [
    "val aisles = spark.read.format(\"csv\")\n",
    "  .option(\"sep\", \",\")\n",
    "  .option(\"inferSchema\", \"true\")\n",
    "  .option(\"header\", \"true\")\n",
    "  .load(\"aisles.csv\")"
   ]
  },
  {
   "cell_type": "code",
   "execution_count": 2,
   "id": "saved-airplane",
   "metadata": {},
   "outputs": [
    {
     "data": {
      "text/plain": [
       "res0: String = 3.1.1\n"
      ]
     },
     "execution_count": 2,
     "metadata": {},
     "output_type": "execute_result"
    }
   ],
   "source": [
    "sc.version"
   ]
  },
  {
   "cell_type": "code",
   "execution_count": 3,
   "id": "fresh-plymouth",
   "metadata": {},
   "outputs": [
    {
     "data": {
      "text/plain": [
       "departments: org.apache.spark.sql.DataFrame = [department_id: int, department: string]\n"
      ]
     },
     "execution_count": 3,
     "metadata": {},
     "output_type": "execute_result"
    }
   ],
   "source": [
    "val departments = spark.read.format(\"csv\")\n",
    "  .option(\"sep\", \",\")\n",
    "  .option(\"inferSchema\", \"true\")\n",
    "  .option(\"header\", \"true\")\n",
    "  .load(\"departments.csv\")"
   ]
  },
  {
   "cell_type": "code",
   "execution_count": 4,
   "id": "geological-replica",
   "metadata": {},
   "outputs": [
    {
     "data": {
      "text/plain": [
       "order_products_prior: org.apache.spark.sql.DataFrame = [order_id: int, product_id: int ... 2 more fields]\n"
      ]
     },
     "execution_count": 4,
     "metadata": {},
     "output_type": "execute_result"
    }
   ],
   "source": [
    "val order_products_prior = spark.read.format(\"csv\")\n",
    "  .option(\"sep\", \",\")\n",
    "  .option(\"inferSchema\", \"true\")\n",
    "  .option(\"header\", \"true\")\n",
    "  .load(\"order_products__prior.csv\")"
   ]
  },
  {
   "cell_type": "code",
   "execution_count": 5,
   "id": "korean-arrow",
   "metadata": {},
   "outputs": [
    {
     "data": {
      "text/plain": [
       "order_products_train: org.apache.spark.sql.DataFrame = [order_id: int, product_id: int ... 2 more fields]\n"
      ]
     },
     "execution_count": 5,
     "metadata": {},
     "output_type": "execute_result"
    }
   ],
   "source": [
    "val order_products_train = spark.read.format(\"csv\")\n",
    "  .option(\"sep\", \",\")\n",
    "  .option(\"inferSchema\", \"true\")\n",
    "  .option(\"header\", \"true\")\n",
    "  .load(\"order_products__train.csv\")"
   ]
  },
  {
   "cell_type": "code",
   "execution_count": 6,
   "id": "fiscal-cannon",
   "metadata": {},
   "outputs": [
    {
     "data": {
      "text/plain": [
       "res1: Long = 134\n"
      ]
     },
     "execution_count": 6,
     "metadata": {},
     "output_type": "execute_result"
    }
   ],
   "source": [
    "aisles.count()"
   ]
  },
  {
   "cell_type": "code",
   "execution_count": 7,
   "id": "accredited-cleaning",
   "metadata": {},
   "outputs": [
    {
     "data": {
      "text/plain": [
       "res2: Long = 21\n"
      ]
     },
     "execution_count": 7,
     "metadata": {},
     "output_type": "execute_result"
    }
   ],
   "source": [
    "departments.count()"
   ]
  },
  {
   "cell_type": "code",
   "execution_count": 8,
   "id": "indirect-video",
   "metadata": {},
   "outputs": [
    {
     "data": {
      "text/plain": [
       "res3: Long = 32434489\n"
      ]
     },
     "execution_count": 8,
     "metadata": {},
     "output_type": "execute_result"
    }
   ],
   "source": [
    "order_products_prior.count()"
   ]
  },
  {
   "cell_type": "code",
   "execution_count": 9,
   "id": "funny-summer",
   "metadata": {},
   "outputs": [
    {
     "data": {
      "text/plain": [
       "orders: org.apache.spark.sql.DataFrame = [order_id: int, user_id: int ... 5 more fields]\n"
      ]
     },
     "execution_count": 9,
     "metadata": {},
     "output_type": "execute_result"
    }
   ],
   "source": [
    "val orders = spark.read.format(\"csv\")\n",
    "  .option(\"sep\", \",\")\n",
    "  .option(\"inferSchema\", \"true\")\n",
    "  .option(\"header\", \"true\")\n",
    "  .load(\"orders.csv\")"
   ]
  },
  {
   "cell_type": "code",
   "execution_count": 10,
   "id": "included-philadelphia",
   "metadata": {},
   "outputs": [
    {
     "data": {
      "text/plain": [
       "products: org.apache.spark.sql.DataFrame = [product_id: int, product_name: string ... 2 more fields]\n"
      ]
     },
     "execution_count": 10,
     "metadata": {},
     "output_type": "execute_result"
    }
   ],
   "source": [
    "val products = spark.read.format(\"csv\")\n",
    "  .option(\"sep\", \",\")\n",
    "  .option(\"inferSchema\", \"true\")\n",
    "  .option(\"header\", \"true\")\n",
    "  .load(\"products.csv\")"
   ]
  },
  {
   "cell_type": "code",
   "execution_count": 11,
   "id": "constitutional-australia",
   "metadata": {},
   "outputs": [
    {
     "data": {
      "text/plain": [
       "import org.apache.spark.sql._\n",
       "import org.apache.log4j._\n",
       "import org.apache.spark.sql.types.{StructType, StructField, StringType}\n",
       "import org.apache.spark.sql.Row\n",
       "sqlContext: org.apache.spark.sql.SQLContext = org.apache.spark.sql.SQLContext@226dbb86\n"
      ]
     },
     "execution_count": 11,
     "metadata": {},
     "output_type": "execute_result"
    }
   ],
   "source": [
    "import org.apache.spark.sql._\n",
    "import org.apache.log4j._\n",
    "import org.apache.spark.sql.types.{StructType, StructField, StringType}\n",
    "import org.apache.spark.sql.Row\n",
    "\n",
    "val sqlContext = new SQLContext(sc)"
   ]
  },
  {
   "cell_type": "code",
   "execution_count": 12,
   "id": "official-effort",
   "metadata": {},
   "outputs": [
    {
     "name": "stdout",
     "output_type": "stream",
     "text": [
      "root\n",
      " |-- order_id: integer (nullable = true)\n",
      " |-- user_id: integer (nullable = true)\n",
      " |-- eval_set: string (nullable = true)\n",
      " |-- order_number: integer (nullable = true)\n",
      " |-- order_dow: integer (nullable = true)\n",
      " |-- order_hour_of_day: integer (nullable = true)\n",
      " |-- days_since_prior_order: double (nullable = true)\n",
      "\n"
     ]
    }
   ],
   "source": [
    "orders.printSchema()"
   ]
  },
  {
   "cell_type": "code",
   "execution_count": 13,
   "id": "arctic-smile",
   "metadata": {},
   "outputs": [],
   "source": [
    "orders.registerTempTable(\"orders\")"
   ]
  },
  {
   "cell_type": "code",
   "execution_count": 14,
   "id": "composed-discount",
   "metadata": {},
   "outputs": [
    {
     "data": {
      "text/plain": [
       "allrecords: org.apache.spark.sql.DataFrame = [order_id: int, user_id: int ... 5 more fields]\n"
      ]
     },
     "execution_count": 14,
     "metadata": {},
     "output_type": "execute_result"
    }
   ],
   "source": [
    "val allrecords = sqlContext.sql(\"select * from orders\")"
   ]
  },
  {
   "cell_type": "code",
   "execution_count": 15,
   "id": "supposed-arrest",
   "metadata": {},
   "outputs": [
    {
     "name": "stdout",
     "output_type": "stream",
     "text": [
      "+--------+-------+--------+------------+---------+-----------------+----------------------+\n",
      "|order_id|user_id|eval_set|order_number|order_dow|order_hour_of_day|days_since_prior_order|\n",
      "+--------+-------+--------+------------+---------+-----------------+----------------------+\n",
      "| 2539329|      1|   prior|           1|        2|                8|                  null|\n",
      "| 2398795|      1|   prior|           2|        3|                7|                  15.0|\n",
      "|  473747|      1|   prior|           3|        3|               12|                  21.0|\n",
      "| 2254736|      1|   prior|           4|        4|                7|                  29.0|\n",
      "|  431534|      1|   prior|           5|        4|               15|                  28.0|\n",
      "| 3367565|      1|   prior|           6|        2|                7|                  19.0|\n",
      "|  550135|      1|   prior|           7|        1|                9|                  20.0|\n",
      "| 3108588|      1|   prior|           8|        1|               14|                  14.0|\n",
      "| 2295261|      1|   prior|           9|        1|               16|                   0.0|\n",
      "| 2550362|      1|   prior|          10|        4|                8|                  30.0|\n",
      "| 1187899|      1|   train|          11|        4|                8|                  14.0|\n",
      "| 2168274|      2|   prior|           1|        2|               11|                  null|\n",
      "| 1501582|      2|   prior|           2|        5|               10|                  10.0|\n",
      "| 1901567|      2|   prior|           3|        1|               10|                   3.0|\n",
      "|  738281|      2|   prior|           4|        2|               10|                   8.0|\n",
      "| 1673511|      2|   prior|           5|        3|               11|                   8.0|\n",
      "| 1199898|      2|   prior|           6|        2|                9|                  13.0|\n",
      "| 3194192|      2|   prior|           7|        2|               12|                  14.0|\n",
      "|  788338|      2|   prior|           8|        1|               15|                  27.0|\n",
      "| 1718559|      2|   prior|           9|        2|                9|                   8.0|\n",
      "+--------+-------+--------+------------+---------+-----------------+----------------------+\n",
      "only showing top 20 rows\n",
      "\n"
     ]
    }
   ],
   "source": [
    "allrecords.show()"
   ]
  },
  {
   "cell_type": "code",
   "execution_count": 16,
   "id": "federal-transformation",
   "metadata": {},
   "outputs": [
    {
     "data": {
      "text/plain": [
       "total_orders: org.apache.spark.sql.DataFrame = [total_orders: bigint, day_of_week: string]\n"
      ]
     },
     "execution_count": 16,
     "metadata": {},
     "output_type": "execute_result"
    }
   ],
   "source": [
    "val total_orders = sqlContext.sql(\"\"\"\n",
    "| select \n",
    "|  count(order_id) as total_orders, \n",
    "|  (case \n",
    "|     when order_dow = '0' then 'Sunday'\n",
    "|     when order_dow = '1' then 'Monday'\n",
    "|     when order_dow = '2' then 'Tuesday'\n",
    "|     when order_dow = '3' then 'Wednesday'\n",
    "|     when order_dow = '4' then 'Thursday'\n",
    "|     when order_dow = '5' then 'Friday'\n",
    "|     when order_dow = '6' then 'Saturday'              \n",
    "|   end) as day_of_week \n",
    "|  from orders\n",
    "| group by order_dow \n",
    "| order by total_orders desc\n",
    " \"\"\")"
   ]
  },
  {
   "cell_type": "code",
   "execution_count": 17,
   "id": "forced-blink",
   "metadata": {},
   "outputs": [
    {
     "name": "stdout",
     "output_type": "stream",
     "text": [
      "+------------+-----------+\n",
      "|total_orders|day_of_week|\n",
      "+------------+-----------+\n",
      "|      600905|     Sunday|\n",
      "|      587478|     Monday|\n",
      "|      467260|    Tuesday|\n",
      "|      453368|     Friday|\n",
      "|      448761|   Saturday|\n",
      "|      436972|  Wednesday|\n",
      "|      426339|   Thursday|\n",
      "+------------+-----------+\n",
      "\n"
     ]
    }
   ],
   "source": [
    "total_orders.show()\n",
    "  "
   ]
  },
  {
   "cell_type": "code",
   "execution_count": 18,
   "id": "geographic-buyer",
   "metadata": {},
   "outputs": [
    {
     "data": {
      "text/plain": [
       "total_orders_by_hour: org.apache.spark.sql.DataFrame = [total_orders: bigint, hour: int]\n"
      ]
     },
     "execution_count": 18,
     "metadata": {},
     "output_type": "execute_result"
    }
   ],
   "source": [
    "val total_orders_by_hour = sqlContext.sql(\"\"\"\n",
    "|select \n",
    "|  count(order_id) as total_orders, \n",
    "|  order_hour_of_day as hour \n",
    "|  from orders \n",
    "| group by order_hour_of_day \n",
    "| order by order_hour_of_day\n",
    " \"\"\")"
   ]
  },
  {
   "cell_type": "code",
   "execution_count": 19,
   "id": "focused-science",
   "metadata": {},
   "outputs": [
    {
     "name": "stdout",
     "output_type": "stream",
     "text": [
      "+------------+----+\n",
      "|total_orders|hour|\n",
      "+------------+----+\n",
      "|       22758|   0|\n",
      "|       12398|   1|\n",
      "|        7539|   2|\n",
      "|        5474|   3|\n",
      "|        5527|   4|\n",
      "|        9569|   5|\n",
      "|       30529|   6|\n",
      "|       91868|   7|\n",
      "|      178201|   8|\n",
      "|      257812|   9|\n",
      "|      288418|  10|\n",
      "|      284728|  11|\n",
      "|      272841|  12|\n",
      "|      277999|  13|\n",
      "|      283042|  14|\n",
      "|      283639|  15|\n",
      "|      272553|  16|\n",
      "|      228795|  17|\n",
      "|      182912|  18|\n",
      "|      140569|  19|\n",
      "+------------+----+\n",
      "only showing top 20 rows\n",
      "\n"
     ]
    }
   ],
   "source": [
    "total_orders_by_hour.show()"
   ]
  },
  {
   "cell_type": "code",
   "execution_count": 27,
   "id": "cosmetic-combination",
   "metadata": {},
   "outputs": [
    {
     "data": {
      "text/plain": [
       "rawData: org.apache.spark.sql.DataFrame = [product_name: string, order_id: int]\n"
      ]
     },
     "execution_count": 27,
     "metadata": {},
     "output_type": "execute_result"
    }
   ],
   "source": [
    "products.registerTempTable(\"products\")\n",
    "order_products_train.registerTempTable(\"order_products_train\")\n",
    "val rawData = sqlContext.sql(\"select p.product_name, o.order_id from products p inner join order_products_train o where o.product_id = p.product_id\")\n"
   ]
  },
  {
   "cell_type": "code",
   "execution_count": 29,
   "id": "naughty-palmer",
   "metadata": {},
   "outputs": [
    {
     "data": {
      "text/plain": [
       "baskets: org.apache.spark.sql.DataFrame = [order_id: int, items: array<string>]\n"
      ]
     },
     "execution_count": 29,
     "metadata": {},
     "output_type": "execute_result"
    }
   ],
   "source": [
    "val baskets = rawData.groupBy(\"order_id\").agg(collect_set(\"product_name\").alias(\"items\"))\n",
    "baskets.createOrReplaceTempView(\"baskets\")"
   ]
  },
  {
   "cell_type": "code",
   "execution_count": 30,
   "id": "assured-plate",
   "metadata": {},
   "outputs": [
    {
     "data": {
      "text/plain": [
       "import org.apache.spark.ml.fpm.FPGrowth\n",
       "baskets_ds: org.apache.spark.sql.DataFrame = [items: array<string>]\n",
       "fpgrowth: org.apache.spark.ml.fpm.FPGrowth = fpgrowth_d8374f5832ce\n",
       "model: org.apache.spark.ml.fpm.FPGrowthModel = FPGrowthModel: uid=fpgrowth_d8374f5832ce, numTrainingRecords=131209\n",
       "mostPopularItemInABasket: org.apache.spark.sql.DataFrame = [items: array<string>, freq: bigint]\n"
      ]
     },
     "execution_count": 30,
     "metadata": {},
     "output_type": "execute_result"
    }
   ],
   "source": [
    "import org.apache.spark.ml.fpm.FPGrowth\n",
    "\n",
    "// Extract out the items \n",
    "val baskets_ds = spark.sql(\"select items from baskets\").as[Array[String]].toDF(\"items\")\n",
    "\n",
    "// Use FPGrowth\n",
    "val fpgrowth = new FPGrowth().setItemsCol(\"items\").setMinSupport(0.001).setMinConfidence(0)\n",
    "val model = fpgrowth.fit(baskets_ds)\n",
    "\n",
    "// Calculate frequent itemsets\n",
    "val mostPopularItemInABasket = model.freqItemsets\n",
    "mostPopularItemInABasket.createOrReplaceTempView(\"mostPopularItemInABasket\")"
   ]
  },
  {
   "cell_type": "code",
   "execution_count": 34,
   "id": "representative-salvation",
   "metadata": {},
   "outputs": [
    {
     "data": {
      "text/plain": [
       "top_most: org.apache.spark.sql.DataFrame = [items: array<string>, freq: bigint]\n"
      ]
     },
     "execution_count": 34,
     "metadata": {},
     "output_type": "execute_result"
    }
   ],
   "source": [
    "val top_most = spark.sql(\"select items, freq from mostPopularItemInABasket where size(items) > 2 order by freq desc limit 20\")"
   ]
  },
  {
   "cell_type": "code",
   "execution_count": 35,
   "id": "proof-canon",
   "metadata": {},
   "outputs": [
    {
     "name": "stdout",
     "output_type": "stream",
     "text": [
      "+--------------------------------------------------------------------+----+\n",
      "|items                                                               |freq|\n",
      "+--------------------------------------------------------------------+----+\n",
      "|[Organic Hass Avocado, Organic Strawberries, Bag of Organic Bananas]|710 |\n",
      "|[Organic Raspberries, Organic Strawberries, Bag of Organic Bananas] |649 |\n",
      "|[Organic Baby Spinach, Organic Strawberries, Bag of Organic Bananas]|587 |\n",
      "|[Organic Raspberries, Organic Hass Avocado, Bag of Organic Bananas] |531 |\n",
      "|[Organic Hass Avocado, Organic Baby Spinach, Bag of Organic Bananas]|497 |\n",
      "|[Organic Avocado, Organic Baby Spinach, Banana]                     |484 |\n",
      "|[Organic Avocado, Large Lemon, Banana]                              |477 |\n",
      "|[Limes, Large Lemon, Banana]                                        |452 |\n",
      "|[Organic Cucumber, Organic Strawberries, Bag of Organic Bananas]    |424 |\n",
      "|[Limes, Organic Avocado, Large Lemon]                               |389 |\n",
      "|[Organic Raspberries, Organic Hass Avocado, Organic Strawberries]   |381 |\n",
      "|[Organic Avocado, Organic Strawberries, Banana]                     |379 |\n",
      "|[Organic Baby Spinach, Organic Strawberries, Banana]                |376 |\n",
      "|[Organic Blueberries, Organic Strawberries, Bag of Organic Bananas] |374 |\n",
      "|[Large Lemon, Organic Baby Spinach, Banana]                         |371 |\n",
      "|[Organic Cucumber, Organic Hass Avocado, Bag of Organic Bananas]    |366 |\n",
      "|[Organic Lemon, Organic Hass Avocado, Bag of Organic Bananas]       |353 |\n",
      "|[Limes, Organic Avocado, Banana]                                    |352 |\n",
      "|[Organic Whole Milk, Organic Strawberries, Bag of Organic Bananas]  |339 |\n",
      "|[Organic Avocado, Large Lemon, Organic Baby Spinach]                |334 |\n",
      "+--------------------------------------------------------------------+----+\n",
      "\n"
     ]
    }
   ],
   "source": [
    "top_most.show(false)"
   ]
  },
  {
   "cell_type": "code",
   "execution_count": 36,
   "id": "signed-producer",
   "metadata": {},
   "outputs": [
    {
     "data": {
      "text/plain": [
       "ifThen: org.apache.spark.sql.DataFrame = [antecedent: array<string>, consequent: array<string> ... 3 more fields]\n"
      ]
     },
     "execution_count": 36,
     "metadata": {},
     "output_type": "execute_result"
    }
   ],
   "source": [
    "// Display generated association rules.\n",
    "val ifThen = model.associationRules\n",
    "ifThen.createOrReplaceTempView(\"ifThen\")"
   ]
  },
  {
   "cell_type": "code",
   "execution_count": 37,
   "id": "amber-duncan",
   "metadata": {},
   "outputs": [
    {
     "data": {
      "text/plain": [
       "rules: org.apache.spark.sql.DataFrame = [antecedent (if): array<string>, consequent (then): array<string> ... 1 more field]\n"
      ]
     },
     "execution_count": 37,
     "metadata": {},
     "output_type": "execute_result"
    }
   ],
   "source": [
    "val rules = spark.sql(\"select antecedent as `antecedent (if)`, consequent as `consequent (then)`, confidence from ifThen order by confidence desc limit 20\")"
   ]
  },
  {
   "cell_type": "code",
   "execution_count": 39,
   "id": "colonial-monroe",
   "metadata": {},
   "outputs": [
    {
     "name": "stdout",
     "output_type": "stream",
     "text": [
      "+------------------------------------------------------------------+------------------------+-------------------+\n",
      "|antecedent (if)                                                   |consequent (then)       |confidence         |\n",
      "+------------------------------------------------------------------+------------------------+-------------------+\n",
      "|[Organic Raspberries, Organic Hass Avocado, Organic Strawberries] |[Bag of Organic Bananas]|0.5984251968503937 |\n",
      "|[Organic Cucumber, Organic Hass Avocado, Organic Strawberries]    |[Bag of Organic Bananas]|0.546875           |\n",
      "|[Organic Kiwi, Organic Hass Avocado]                              |[Bag of Organic Bananas]|0.5459770114942529 |\n",
      "|[Organic Navel Orange, Organic Raspberries]                       |[Bag of Organic Bananas]|0.5412186379928315 |\n",
      "|[Yellow Onions, Strawberries]                                     |[Banana]                |0.5357142857142857 |\n",
      "|[Organic Whole String Cheese, Organic Hass Avocado]               |[Bag of Organic Bananas]|0.5314685314685315 |\n",
      "|[Organic Navel Orange, Organic Hass Avocado]                      |[Bag of Organic Bananas]|0.5283018867924528 |\n",
      "|[Organic Raspberries, Organic Hass Avocado]                       |[Bag of Organic Bananas]|0.521099116781158  |\n",
      "|[Organic D'Anjou Pears, Organic Hass Avocado]                     |[Bag of Organic Bananas]|0.5170454545454546 |\n",
      "|[Organic Unsweetened Almond Milk, Organic Hass Avocado]           |[Bag of Organic Bananas]|0.5141065830721003 |\n",
      "|[Organic Broccoli, Organic Hass Avocado]                          |[Bag of Organic Bananas]|0.5048231511254019 |\n",
      "|[Organic Lemon, Organic Raspberries]                              |[Bag of Organic Bananas]|0.4989106753812636 |\n",
      "|[Organic Hass Avocado, Organic Baby Spinach, Organic Strawberries]|[Bag of Organic Bananas]|0.49393939393939396|\n",
      "|[Organic Fuji Apple, Strawberries]                                |[Banana]                |0.4915254237288136 |\n",
      "|[Honeycrisp Apple, Strawberries]                                  |[Banana]                |0.4868421052631579 |\n",
      "|[Organic Large Extra Fancy Fuji Apple, Organic Hass Avocado]      |[Bag of Organic Bananas]|0.4838709677419355 |\n",
      "|[Organic Gala Apples, Organic Hass Avocado]                       |[Bag of Organic Bananas]|0.4837905236907731 |\n",
      "|[Organic Navel Orange, Organic Strawberries]                      |[Bag of Organic Bananas]|0.4821002386634845 |\n",
      "|[Organic Kiwi, Organic Raspberries]                               |[Bag of Organic Bananas]|0.4792332268370607 |\n",
      "|[Organic Carrot Bunch, Organic Hass Avocado]                      |[Bag of Organic Bananas]|0.47315436241610737|\n",
      "+------------------------------------------------------------------+------------------------+-------------------+\n",
      "\n"
     ]
    }
   ],
   "source": [
    "rules.show(false)"
   ]
  },
  {
   "cell_type": "code",
   "execution_count": null,
   "id": "amber-casino",
   "metadata": {},
   "outputs": [],
   "source": []
  }
 ],
 "metadata": {
  "kernelspec": {
   "display_name": "spylon-kernel",
   "language": "scala",
   "name": "spylon-kernel"
  },
  "language_info": {
   "codemirror_mode": "text/x-scala",
   "file_extension": ".scala",
   "help_links": [
    {
     "text": "MetaKernel Magics",
     "url": "https://metakernel.readthedocs.io/en/latest/source/README.html"
    }
   ],
   "mimetype": "text/x-scala",
   "name": "scala",
   "pygments_lexer": "scala",
   "version": "0.4.1"
  }
 },
 "nbformat": 4,
 "nbformat_minor": 5
}
